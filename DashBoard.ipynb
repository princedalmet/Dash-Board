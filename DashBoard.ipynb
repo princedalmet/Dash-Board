{
  "nbformat": 4,
  "nbformat_minor": 0,
  "metadata": {
    "colab": {
      "name": "Untitled40.ipynb",
      "provenance": [],
      "authorship_tag": "ABX9TyPN8HQ3lagJ3BQykanB9l6S",
      "include_colab_link": true
    },
    "kernelspec": {
      "name": "python3",
      "display_name": "Python 3"
    },
    "language_info": {
      "name": "python"
    }
  },
  "cells": [
    {
      "cell_type": "markdown",
      "metadata": {
        "id": "view-in-github",
        "colab_type": "text"
      },
      "source": [
        "<a href=\"https://colab.research.google.com/github/princetondalmet/Dash-Board/blob/main/DashBoard.ipynb\" target=\"_parent\"><img src=\"https://colab.research.google.com/assets/colab-badge.svg\" alt=\"Open In Colab\"/></a>"
      ]
    },
    {
      "cell_type": "code",
      "execution_count": 4,
      "metadata": {
        "colab": {
          "base_uri": "https://localhost:8080/",
          "height": 304
        },
        "id": "v3mEhrDUyy7s",
        "outputId": "c1bbe21f-5dfc-4e5f-e3f4-53edd347bf40"
      },
      "outputs": [
        {
          "output_type": "stream",
          "name": "stdout",
          "text": [
            "Dash is running on http://127.0.0.1:8050/\n",
            "\n",
            "Dash is running on http://127.0.0.1:8050/\n",
            "\n",
            " * Serving Flask app \"__main__\" (lazy loading)\n",
            " * Environment: production\n",
            "\u001b[31m   WARNING: This is a development server. Do not use it in a production deployment.\u001b[0m\n",
            "\u001b[2m   Use a production WSGI server instead.\u001b[0m\n",
            " * Debug mode: on\n"
          ]
        },
        {
          "output_type": "error",
          "ename": "SystemExit",
          "evalue": "ignored",
          "traceback": [
            "An exception has occurred, use %tb to see the full traceback.\n",
            "\u001b[0;31mSystemExit\u001b[0m\u001b[0;31m:\u001b[0m 1\n"
          ]
        },
        {
          "output_type": "stream",
          "name": "stderr",
          "text": [
            "/usr/local/lib/python3.7/dist-packages/IPython/core/interactiveshell.py:2890: UserWarning: To exit: use 'exit', 'quit', or Ctrl-D.\n",
            "  warn(\"To exit: use 'exit', 'quit', or Ctrl-D.\", stacklevel=1)\n"
          ]
        }
      ],
      "source": [
        "import dash\n",
        "from dash import html\n",
        "from dash import dcc\n",
        "\n",
        "#Code to start an application\n",
        "app = dash.Dash()\n",
        "\n",
        "#HTML layout and Graph components are defined in this section\n",
        "app.layout = html.Div(children=[html.H1(children='Sample Dash Web App Dashboard'),\n",
        "                                \n",
        "  #-----------------------\n",
        "                                html.Div(\n",
        "            [\n",
        "                html.Div(\n",
        "                    [\n",
        "                        html.P('Choose Item:'),\n",
        "                        dcc.Checklist(\n",
        "                                id = 'Item_List',\n",
        "                                options=[\n",
        "                                    {'label': 'Bread', 'value': 'Bread'},\n",
        "                                    {'label': 'Milk', 'value': 'Milk'},\n",
        "                                    {'label': 'Sugar', 'value': 'Sugar'}\n",
        "                                ],\n",
        "                                value=['Bread', 'Milk', 'Sugar'],\n",
        "                                labelStyle={'display': 'inline-block'}\n",
        "                        ),\n",
        "                    ],\n",
        "                    className='six columns',\n",
        "                    style={'margin-top': '10'}\n",
        "                ),\n",
        "            ], className=\"row\"\n",
        "        ),\n",
        "#-----------------------\n",
        "                                \n",
        "                                html.Div(children = '''Dash: A web based app to show Bar Graph'''),\n",
        "                                dcc.Graph(id='dash_graph',\n",
        "\n",
        "),\n",
        "                                dcc.Graph(id='dash_graph_2',\n",
        "                                          figure = {'data': [{'x':[1,2,3,4,5], 'y':[4,6,3,8,1], 'type': 'bar', 'name':'Aeroplane'},\n",
        "                                          {'x':[1,2,3,4,5], 'y':[9,3,1,9,4], 'type': 'bar', 'name':'Car'},\n",
        "                                          {'x':[1,2,3,4,5], 'y':[4,6,3,8,1], 'type': 'line', 'name':'Train'},],\n",
        "                                        'layout':{'title': 'Dash Example App 2'}\n",
        "} \n",
        ")\n",
        "                                ])\n",
        "                            \n",
        "\n",
        "@app.callback(\n",
        "    dash.dependencies.Output('dash_graph', 'figure'),\n",
        "    [dash.dependencies.Input('Item_List', 'value')])\n",
        "def update_graph(selector):\n",
        "    data = []\n",
        "    if 'Bread' in selector:\n",
        "        data.append({'x':[1,2,3,4,5], 'y':[4,6,3,8,1], 'type': 'bar', 'name':'Bread'})\n",
        "    if 'Milk' in selector:\n",
        "        data.append({'x':[1,2,3,4,5], 'y':[9,3,1,9,4], 'type': 'bar', 'name':'Milk'})\n",
        "    if 'Sugar' in selector:\n",
        "        data.append({'x':[1,2,3,4,5], 'y':[4,6,3,8,1], 'type': 'bar', 'name':'Sugar'})\n",
        "    figure = {\n",
        "        'data': data,\n",
        "        'layout': {\n",
        "            'title': 'Item Graph',\n",
        "            'xaxis' : dict(\n",
        "                title='X-Axis',\n",
        "                titlefont=dict(\n",
        "                family='Calibri, monospace',\n",
        "                size=20,\n",
        "                color='#3FFF33'\n",
        "            )),\n",
        "            'yaxis' : dict(\n",
        "                title='Y-Axis',\n",
        "                titlefont=dict(\n",
        "                family='Garamond, monospace',\n",
        "                size=20,\n",
        "                color='#F9FF33'\n",
        "            ))\n",
        "        }\n",
        "    }\n",
        "    return figure\n",
        "\n",
        "#Code to run the application\n",
        "if __name__ == '__main__':\n",
        "    app.run_server(debug = True)"
      ]
    }
  ]
}